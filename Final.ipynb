{
 "cells": [
  {
   "cell_type": "code",
   "execution_count": 1,
   "metadata": {},
   "outputs": [
    {
     "name": "stdout",
     "output_type": "stream",
     "text": [
      "   age  height(cm)  weight(kg)  waist(cm)  eyesight(left)  eyesight(right)  \\\n",
      "0   35         170          85       97.0             0.9              0.9   \n",
      "1   20         175         110      110.0             0.7              0.9   \n",
      "2   45         155          65       86.0             0.9              0.9   \n",
      "3   45         165          80       94.0             0.8              0.7   \n",
      "4   20         165          60       81.0             1.5              0.1   \n",
      "\n",
      "   hearing(left)  hearing(right)  systolic  relaxation  ...  HDL  LDL  \\\n",
      "0              1               1       118          78  ...   70  142   \n",
      "1              1               1       119          79  ...   71  114   \n",
      "2              1               1       110          80  ...   57  112   \n",
      "3              1               1       158          88  ...   46   91   \n",
      "4              1               1       109          64  ...   47   92   \n",
      "\n",
      "   hemoglobin  Urine protein  serum creatinine   AST   ALT  Gtp  \\\n",
      "0        19.8              1               1.0    61   115  125   \n",
      "1        15.9              1               1.1    19    25   30   \n",
      "2        13.7              3               0.6  1090  1400  276   \n",
      "3        16.9              1               0.9    32    36   36   \n",
      "4        14.9              1               1.2    26    28   15   \n",
      "\n",
      "   dental caries  smoking  \n",
      "0              1        1  \n",
      "1              1        0  \n",
      "2              0        0  \n",
      "3              0        0  \n",
      "4              0        0  \n",
      "\n",
      "[5 rows x 23 columns]\n",
      "\n",
      "\n"
     ]
    }
   ],
   "source": [
    "### 기본 라이브러리 불러오기\n",
    "import pandas as pd\n",
    "import numpy as np\n",
    "import matplotlib.pyplot as plt\n",
    "import seaborn as sns\n",
    "\n",
    "# matplotlib 한글 폰트 오류 문제 해결\n",
    "from matplotlib import font_manager, rc\n",
    "font_path = \"./malgun.ttf\"   #폰트파일의 위치\n",
    "font_name = font_manager.FontProperties(fname=font_path).get_name()\n",
    "rc('font', family=font_name)\n",
    "\n",
    "# CSV 파일을 데이터프레임으로 변환\n",
    "df = pd.read_csv('./train_dataset.csv')\n",
    "\n",
    "# 데이터 살펴보기\n",
    "print(df.head())   \n",
    "print('\\n')"
   ]
  },
  {
   "cell_type": "code",
   "execution_count": 4,
   "metadata": {},
   "outputs": [
    {
     "name": "stdout",
     "output_type": "stream",
     "text": [
      "<class 'pandas.core.frame.DataFrame'>\n",
      "RangeIndex: 38984 entries, 0 to 38983\n",
      "Data columns (total 23 columns):\n",
      " #   Column               Non-Null Count  Dtype  \n",
      "---  ------               --------------  -----  \n",
      " 0   age                  38984 non-null  int64  \n",
      " 1   height(cm)           38984 non-null  int64  \n",
      " 2   weight(kg)           38984 non-null  int64  \n",
      " 3   waist(cm)            38984 non-null  float64\n",
      " 4   eyesight(left)       38984 non-null  float64\n",
      " 5   eyesight(right)      38984 non-null  float64\n",
      " 6   hearing(left)        38984 non-null  int64  \n",
      " 7   hearing(right)       38984 non-null  int64  \n",
      " 8   systolic             38984 non-null  int64  \n",
      " 9   relaxation           38984 non-null  int64  \n",
      " 10  fasting blood sugar  38984 non-null  int64  \n",
      " 11  Cholesterol          38984 non-null  int64  \n",
      " 12  triglyceride         38984 non-null  int64  \n",
      " 13  HDL                  38984 non-null  int64  \n",
      " 14  LDL                  38984 non-null  int64  \n",
      " 15  hemoglobin           38984 non-null  float64\n",
      " 16  Urine protein        38984 non-null  int64  \n",
      " 17  serum creatinine     38984 non-null  float64\n",
      " 18  AST                  38984 non-null  int64  \n",
      " 19  ALT                  38984 non-null  int64  \n",
      " 20  Gtp                  38984 non-null  int64  \n",
      " 21  dental caries        38984 non-null  int64  \n",
      " 22  smoking              38984 non-null  int64  \n",
      "dtypes: float64(5), int64(18)\n",
      "memory usage: 6.8 MB\n",
      "None\n",
      "\n",
      "\n",
      "                age    height(cm)    weight(kg)     waist(cm)  eyesight(left)  \\\n",
      "count  38984.000000  38984.000000  38984.000000  38984.000000    38984.000000   \n",
      "mean      44.127591    164.689488     65.938718     82.062115        1.014955   \n",
      "std       12.063564      9.187507     12.896581      9.326798        0.498527   \n",
      "min       20.000000    130.000000     30.000000     51.000000        0.100000   \n",
      "25%       40.000000    160.000000     55.000000     76.000000        0.800000   \n",
      "50%       40.000000    165.000000     65.000000     82.000000        1.000000   \n",
      "75%       55.000000    170.000000     75.000000     88.000000        1.200000   \n",
      "max       85.000000    190.000000    135.000000    129.000000        9.900000   \n",
      "\n",
      "       eyesight(right)  hearing(left)  hearing(right)      systolic  \\\n",
      "count     38984.000000   38984.000000    38984.000000  38984.000000   \n",
      "mean          1.008768       1.025369        1.026190    121.475631   \n",
      "std           0.493813       0.157246        0.159703     13.643521   \n",
      "min           0.100000       1.000000        1.000000     71.000000   \n",
      "25%           0.800000       1.000000        1.000000    112.000000   \n",
      "50%           1.000000       1.000000        1.000000    120.000000   \n",
      "75%           1.200000       1.000000        1.000000    130.000000   \n",
      "max           9.900000       2.000000        2.000000    233.000000   \n",
      "\n",
      "         relaxation  ...           HDL           LDL    hemoglobin  \\\n",
      "count  38984.000000  ...  38984.000000  38984.000000  38984.000000   \n",
      "mean      75.994408  ...     57.293146    115.081495     14.624264   \n",
      "std        9.658734  ...     14.617822     42.883163      1.566528   \n",
      "min       40.000000  ...      4.000000      1.000000      4.900000   \n",
      "25%       70.000000  ...     47.000000     91.000000     13.600000   \n",
      "50%       76.000000  ...     55.000000    113.000000     14.800000   \n",
      "75%       82.000000  ...     66.000000    136.000000     15.800000   \n",
      "max      146.000000  ...    359.000000   1860.000000     21.100000   \n",
      "\n",
      "       Urine protein  serum creatinine           AST           ALT  \\\n",
      "count   38984.000000      38984.000000  38984.000000  38984.000000   \n",
      "mean        1.086523          0.886030     26.198235     27.145188   \n",
      "std         0.402107          0.220621     19.175595     31.309945   \n",
      "min         1.000000          0.100000      6.000000      1.000000   \n",
      "25%         1.000000          0.800000     19.000000     15.000000   \n",
      "50%         1.000000          0.900000     23.000000     21.000000   \n",
      "75%         1.000000          1.000000     29.000000     31.000000   \n",
      "max         6.000000         11.600000   1090.000000   2914.000000   \n",
      "\n",
      "                Gtp  dental caries       smoking  \n",
      "count  38984.000000   38984.000000  38984.000000  \n",
      "mean      39.905038       0.214421      0.367279  \n",
      "std       49.693843       0.410426      0.482070  \n",
      "min        2.000000       0.000000      0.000000  \n",
      "25%       17.000000       0.000000      0.000000  \n",
      "50%       26.000000       0.000000      0.000000  \n",
      "75%       44.000000       0.000000      1.000000  \n",
      "max      999.000000       1.000000      1.000000  \n",
      "\n",
      "[8 rows x 23 columns]\n",
      "\n",
      "\n"
     ]
    }
   ],
   "source": [
    "# 데이터 자료형 확인\n",
    "print(df.info())\n",
    "print(\"\\n\")\n",
    "\n",
    "# 데이터 통계 요약정보 확인\n",
    "print(df.describe())\n",
    "print(\"\\n\")"
   ]
  },
  {
   "cell_type": "code",
   "execution_count": 5,
   "metadata": {},
   "outputs": [],
   "source": [
    "# 흡연 여부 예측 데이터\n",
    "# age : 5-years gap                             나이\n",
    "# height(cm)                                    키\n",
    "# weight(kg)                                    몸무게\n",
    "# waist(cm) : Waist circumference length        허리 둘레\n",
    "# eyesight(left)                                시력(왼쪽)\n",
    "# eyesight(right)                               시력(오른쪽)\n",
    "# hearing(left)                                 청각(왼쪽)\n",
    "# hearing(right)                                청각(오른쪽)\n",
    "# systolic : Blood pressure                     수축 혈압\n",
    "# relaxation : Blood pressure                   이완 혈압\n",
    "# fasting blood sugar                           공복 혈당\n",
    "# Cholesterol : total                           콜레스트롤: 총계\n",
    "# triglyceride                                  트리글리세리드\n",
    "# HDL : cholesterol type                        콜레스테롤 유형\n",
    "# LDL : cholesterol type                        콜레스테롤 유형\n",
    "# hemoglobin                                    헤모글로빈\n",
    "# Urine protein                                 소변단백질\n",
    "# serum creatinine                              혈청 크레아티닌\n",
    "# AST : glutamic oxaloacetic transaminase type  AST\n",
    "# ALT : glutamic oxaloacetic transaminase type  ALT\n",
    "# Gtp : γ-GTP                                   y-GTP\n",
    "# dental caries                                 충치\n",
    "# smoking                                       흡연\n",
    "\n",
    "\n",
    "# 1-1) 흡연 여부에 따른 평균 트리글리세리드\n",
    "# 1-2 흡연 여부에 따라 그룹을 나누고 수축혈압의 최대 비교\n",
    "# 1-3) 나이대에 따른 흡연자가 가장 적은 그룹\n",
    "\n",
    "# 2-1) 흡연자들의 트리글리세리드와 콜레스테롤 총계 수치 (조인트 그래프)\n",
    "# 2-2) 흡연 여부에 따른 수축혈압과 이완혈압의 최대치 비교"
   ]
  },
  {
   "cell_type": "code",
   "execution_count": 6,
   "metadata": {},
   "outputs": [
    {
     "data": {
      "text/plain": [
       "smoking\n",
       "비흡연자    113.015325\n",
       "흡연자     150.409624\n",
       "Name: triglyceride, dtype: float64"
      ]
     },
     "execution_count": 6,
     "metadata": {},
     "output_type": "execute_result"
    }
   ],
   "source": [
    "smoking_grouped = df.groupby('smoking')\n",
    "# 1-1) 흡연 여부에 따른 평균 트리글리세리드\n",
    "smoking_grouped['triglyceride'].mean().rename(index = {0:\"비흡연자\", 1:\"흡연자\"})"
   ]
  },
  {
   "cell_type": "code",
   "execution_count": 7,
   "metadata": {},
   "outputs": [
    {
     "data": {
      "text/plain": [
       "smoking\n",
       "비흡연자    223\n",
       "흡연자     233\n",
       "Name: systolic, dtype: int64"
      ]
     },
     "execution_count": 7,
     "metadata": {},
     "output_type": "execute_result"
    }
   ],
   "source": [
    "# 1-2 흡연 여부에 따라 그룹을 나누고 수축혈압의 최대 비교\n",
    "smoking_grouped['systolic'].max().rename(index = {0:\"비흡연자\", 1:\"흡연자\"})"
   ]
  },
  {
   "cell_type": "code",
   "execution_count": 8,
   "metadata": {},
   "outputs": [
    {
     "data": {
      "text/plain": [
       "85"
      ]
     },
     "execution_count": 8,
     "metadata": {},
     "output_type": "execute_result"
    }
   ],
   "source": [
    "# 1-3) 나이대에 따른 흡연자가 가장 적은 그룹\n",
    "df.groupby('age')['smoking'].count().idxmin()"
   ]
  },
  {
   "cell_type": "code",
   "execution_count": 31,
   "metadata": {},
   "outputs": [
    {
     "ename": "TypeError",
     "evalue": "'Int64Index' object is not callable",
     "output_type": "error",
     "traceback": [
      "\u001b[1;31m---------------------------------------------------------------------------\u001b[0m",
      "\u001b[1;31mTypeError\u001b[0m                                 Traceback (most recent call last)",
      "\u001b[1;32md:\\CBNU\\2th\\2-2\\오픈소스개발프로젝트\\과제\\기말프로젝트\\OpenSourceDevelopProject_Final\\Final.ipynb 셀 7\u001b[0m in \u001b[0;36m<cell line: 7>\u001b[1;34m()\u001b[0m\n\u001b[0;32m      <a href='vscode-notebook-cell:/d%3A/CBNU/2th/2-2/%EC%98%A4%ED%94%88%EC%86%8C%EC%8A%A4%EA%B0%9C%EB%B0%9C%ED%94%84%EB%A1%9C%EC%A0%9D%ED%8A%B8/%EA%B3%BC%EC%A0%9C/%EA%B8%B0%EB%A7%90%ED%94%84%EB%A1%9C%EC%A0%9D%ED%8A%B8/OpenSourceDevelopProject_Final/Final.ipynb#X43sZmlsZQ%3D%3D?line=4'>5</a>\u001b[0m df_age\u001b[39m=\u001b[39msmoker\u001b[39m.\u001b[39mgroupby(\u001b[39m'\u001b[39m\u001b[39mage\u001b[39m\u001b[39m'\u001b[39m)[\u001b[39m'\u001b[39m\u001b[39msmoking\u001b[39m\u001b[39m'\u001b[39m]\u001b[39m.\u001b[39mcount()\n\u001b[0;32m      <a href='vscode-notebook-cell:/d%3A/CBNU/2th/2-2/%EC%98%A4%ED%94%88%EC%86%8C%EC%8A%A4%EA%B0%9C%EB%B0%9C%ED%94%84%EB%A1%9C%EC%A0%9D%ED%8A%B8/%EA%B3%BC%EC%A0%9C/%EA%B8%B0%EB%A7%90%ED%94%84%EB%A1%9C%EC%A0%9D%ED%8A%B8/OpenSourceDevelopProject_Final/Final.ipynb#X43sZmlsZQ%3D%3D?line=5'>6</a>\u001b[0m age_list \u001b[39m=\u001b[39m \u001b[39mlist\u001b[39m(\u001b[39mmap\u001b[39m(\u001b[39mstr\u001b[39m,df_age\u001b[39m.\u001b[39mindex))\n\u001b[1;32m----> <a href='vscode-notebook-cell:/d%3A/CBNU/2th/2-2/%EC%98%A4%ED%94%88%EC%86%8C%EC%8A%A4%EA%B0%9C%EB%B0%9C%ED%94%84%EB%A1%9C%EC%A0%9D%ED%8A%B8/%EA%B3%BC%EC%A0%9C/%EA%B8%B0%EB%A7%90%ED%94%84%EB%A1%9C%EC%A0%9D%ED%8A%B8/OpenSourceDevelopProject_Final/Final.ipynb#X43sZmlsZQ%3D%3D?line=6'>7</a>\u001b[0m plt\u001b[39m.\u001b[39mbar(df_age\u001b[39m.\u001b[39;49mindex(),df_age)\n",
      "\u001b[1;31mTypeError\u001b[0m: 'Int64Index' object is not callable"
     ]
    }
   ],
   "source": [
    "nosmoker=smoking_grouped.get_group(0)\n",
    "smoker=smoking_grouped.get_group(1)\n",
    "# 2-1) 흡연자들의 나이대 분포 (박스플롯)\n",
    "\n",
    "df_age=smoker.groupby('age')['smoking'].count()"
   ]
  },
  {
   "cell_type": "code",
   "execution_count": 17,
   "metadata": {},
   "outputs": [],
   "source": []
  },
  {
   "cell_type": "code",
   "execution_count": null,
   "metadata": {},
   "outputs": [],
   "source": []
  }
 ],
 "metadata": {
  "kernelspec": {
   "display_name": "Python 3.10.5 64-bit",
   "language": "python",
   "name": "python3"
  },
  "language_info": {
   "codemirror_mode": {
    "name": "ipython",
    "version": 3
   },
   "file_extension": ".py",
   "mimetype": "text/x-python",
   "name": "python",
   "nbconvert_exporter": "python",
   "pygments_lexer": "ipython3",
   "version": "3.10.5"
  },
  "orig_nbformat": 4,
  "vscode": {
   "interpreter": {
    "hash": "88f5a4554b5a9ef949b5de2ca977b5a4bd361180c5b30f32147c76c2c5bcf452"
   }
  }
 },
 "nbformat": 4,
 "nbformat_minor": 2
}
